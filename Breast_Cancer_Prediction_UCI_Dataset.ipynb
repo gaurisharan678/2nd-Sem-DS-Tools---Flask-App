{
  "nbformat": 4,
  "nbformat_minor": 0,
  "metadata": {
    "colab": {
      "provenance": []
    },
    "kernelspec": {
      "name": "python3",
      "display_name": "Python 3"
    },
    "language_info": {
      "name": "python"
    }
  },
  "cells": [
    {
      "cell_type": "code",
      "execution_count": null,
      "metadata": {
        "id": "RaBNbp2PQSL0"
      },
      "outputs": [],
      "source": [
        "import numpy as np\n",
        "import pandas as pd\n",
        "import matplotlib.pyplot as plt\n",
        "import seaborn as sns\n",
        "from pandas.plotting import scatter_matrix\n",
        "\n",
        "from sklearn.metrics import classification_report, accuracy_score, confusion_matrix\n",
        "from sklearn.model_selection import train_test_split, cross_val_score, KFold, GridSearchCV\n",
        "\n",
        "from sklearn.preprocessing import StandardScaler\n",
        "from sklearn.pipeline import Pipeline\n",
        "\n",
        "from sklearn.tree import DecisionTreeClassifier\n",
        "from sklearn.neighbors import KNeighborsClassifier\n",
        "from sklearn.naive_bayes import GaussianNB\n",
        "from sklearn.svm import SVC"
      ]
    },
    {
      "cell_type": "markdown",
      "source": [
        "LOADING DATASET - UCI - BREAST CANCER (WISCONSIN)"
      ],
      "metadata": {
        "id": "rqmUb2F0XMX7"
      }
    },
    {
      "cell_type": "code",
      "source": [
        "url = \"https://archive.ics.uci.edu/ml/machine-learning-databases/breast-cancer-wisconsin/breast-cancer-wisconsin.data\"\n",
        "\n",
        "names = ['id', 'clump_thickness','uniform_cell_size','uniform_cell_shape','marginal_adhesion',\n",
        "         'single_epi_size','bare_nuclei','bland_cromatin','normal_nucleoli',\n",
        "         'mitosis','class']\n",
        "\n",
        "df = pd.read_csv(url,names=names)"
      ],
      "metadata": {
        "id": "6cf_NQ-xVzAr"
      },
      "execution_count": null,
      "outputs": []
    },
    {
      "cell_type": "code",
      "source": [
        "df.head()"
      ],
      "metadata": {
        "id": "qnTFUVvibZby"
      },
      "execution_count": null,
      "outputs": []
    },
    {
      "cell_type": "code",
      "source": [
        "df.shape"
      ],
      "metadata": {
        "id": "5CLt1BkFbwBZ"
      },
      "execution_count": null,
      "outputs": []
    },
    {
      "cell_type": "markdown",
      "source": [
        "**Data Preprocessing**"
      ],
      "metadata": {
        "id": "2iGx_aIwc6pI"
      }
    },
    {
      "cell_type": "code",
      "source": [
        "df.drop(['id'],axis = 1,inplace = True)"
      ],
      "metadata": {
        "id": "mU7YSuVBdC56"
      },
      "execution_count": null,
      "outputs": []
    },
    {
      "cell_type": "code",
      "source": [
        "df.head()"
      ],
      "metadata": {
        "id": "KvT-FspDeCGC"
      },
      "execution_count": null,
      "outputs": []
    },
    {
      "cell_type": "markdown",
      "source": [
        "**MISSING VALUES**"
      ],
      "metadata": {
        "id": "Hw-4QwfCeKjk"
      }
    },
    {
      "cell_type": "code",
      "source": [
        "df.columns"
      ],
      "metadata": {
        "id": "yS-yYQMieM8B"
      },
      "execution_count": null,
      "outputs": []
    },
    {
      "cell_type": "code",
      "source": [
        "df.info()"
      ],
      "metadata": {
        "id": "50bCfS38eUHR"
      },
      "execution_count": null,
      "outputs": []
    },
    {
      "cell_type": "code",
      "source": [
        "df['class'].value_counts()"
      ],
      "metadata": {
        "id": "FqbtlyYbedYZ"
      },
      "execution_count": null,
      "outputs": []
    },
    {
      "cell_type": "code",
      "source": [
        "df['bare_nuclei'].value_counts()"
      ],
      "metadata": {
        "id": "n1uj70qpe1pR"
      },
      "execution_count": null,
      "outputs": []
    },
    {
      "cell_type": "code",
      "source": [
        "df[df['bare_nuclei']==\"?\"]"
      ],
      "metadata": {
        "id": "FQWgmwPSfZtJ"
      },
      "execution_count": null,
      "outputs": []
    },
    {
      "cell_type": "code",
      "source": [
        "df[df['bare_nuclei']==\"?\"].sum()"
      ],
      "metadata": {
        "id": "7uqeoY75f1xC"
      },
      "execution_count": null,
      "outputs": []
    },
    {
      "cell_type": "code",
      "source": [
        "df.replace(\"?\",np.nan,inplace=True)"
      ],
      "metadata": {
        "id": "jVuzghgEgAkw"
      },
      "execution_count": null,
      "outputs": []
    },
    {
      "cell_type": "code",
      "source": [
        "df['bare_nuclei'][23]"
      ],
      "metadata": {
        "id": "8c6nWH0CgVAi"
      },
      "execution_count": null,
      "outputs": []
    },
    {
      "cell_type": "code",
      "source": [
        "df.isna().sum()"
      ],
      "metadata": {
        "id": "W7E4aeAegr5w"
      },
      "execution_count": null,
      "outputs": []
    },
    {
      "cell_type": "code",
      "source": [
        "df.fillna(method='ffill',inplace=True)"
      ],
      "metadata": {
        "id": "orHM5AFRg3JJ"
      },
      "execution_count": null,
      "outputs": []
    },
    {
      "cell_type": "code",
      "source": [
        "df.isna().sum()"
      ],
      "metadata": {
        "id": "O3-46B-lhIMY"
      },
      "execution_count": null,
      "outputs": []
    },
    {
      "cell_type": "code",
      "source": [
        "df['bare_nuclei'] = df['bare_nuclei'].astype('int64')"
      ],
      "metadata": {
        "id": "UM6ZAziLhZCJ"
      },
      "execution_count": null,
      "outputs": []
    },
    {
      "cell_type": "code",
      "source": [
        "df.info()"
      ],
      "metadata": {
        "id": "SBy99uXChzCA"
      },
      "execution_count": null,
      "outputs": []
    },
    {
      "cell_type": "code",
      "source": [
        "df.describe().T"
      ],
      "metadata": {
        "id": "DXSTdav--SJr"
      },
      "execution_count": null,
      "outputs": []
    },
    {
      "cell_type": "code",
      "source": [
        "sns.distplot(df['class'],kde = True)"
      ],
      "metadata": {
        "id": "0ybcIXou_uyk"
      },
      "execution_count": null,
      "outputs": []
    },
    {
      "cell_type": "code",
      "source": [
        "sns.set_style(\"darkgrid\")\n",
        "df.hist(figsize=(30,30))\n",
        "plt.show()"
      ],
      "metadata": {
        "id": "vfM5heGpAplZ"
      },
      "execution_count": null,
      "outputs": []
    },
    {
      "cell_type": "code",
      "source": [
        "scatter_matrix(df,figsize=(20,20))\n",
        "plt.show()"
      ],
      "metadata": {
        "id": "oXbULtoTBq8t"
      },
      "execution_count": null,
      "outputs": []
    },
    {
      "cell_type": "code",
      "source": [
        "plt.figure(figsize=(10,10))\n",
        "sns.boxplot(df,orient='h')"
      ],
      "metadata": {
        "id": "c-ZpAzdqB2Ps"
      },
      "execution_count": null,
      "outputs": []
    },
    {
      "cell_type": "code",
      "source": [
        "sns.pairplot(df,diag_kind='kde')"
      ],
      "metadata": {
        "id": "YBDnCrHCCC1E"
      },
      "execution_count": null,
      "outputs": []
    },
    {
      "cell_type": "code",
      "source": [
        "df.corr()"
      ],
      "metadata": {
        "id": "hU1qxns9CPks"
      },
      "execution_count": null,
      "outputs": []
    },
    {
      "cell_type": "code",
      "source": [
        "plt.figure(figsize=(15,15))\n",
        "cor = df.corr()\n",
        "sns.heatmap(cor,annot=True)\n",
        "plt.title(\"Correlation b/w different values\")\n",
        "plt.show()"
      ],
      "metadata": {
        "id": "A_ZQj40DCfkc"
      },
      "execution_count": null,
      "outputs": []
    },
    {
      "cell_type": "code",
      "source": [
        "cor_target = abs(cor[\"class\"])\n",
        "\n",
        "relevant_features = cor_target[cor_target>0]\n",
        "relevant_features"
      ],
      "metadata": {
        "id": "8b5PnCplC_Tk"
      },
      "execution_count": null,
      "outputs": []
    },
    {
      "cell_type": "markdown",
      "source": [
        "#Train Test Split model"
      ],
      "metadata": {
        "id": "DC-WHFaoDfkk"
      }
    },
    {
      "cell_type": "code",
      "source": [
        "Y = df['class'].values\n",
        "X = df.drop('class',axis = 1).values\n",
        "\n",
        "X_train, X_test, y_train, y_test = train_test_split(X,Y, test_size=0.30,random_state=21)"
      ],
      "metadata": {
        "id": "z5tO6vlXDiCj"
      },
      "execution_count": null,
      "outputs": []
    },
    {
      "cell_type": "markdown",
      "source": [
        "Model Selection"
      ],
      "metadata": {
        "id": "Y-F2eFJDEQzS"
      }
    },
    {
      "cell_type": "code",
      "source": [
        "scoring = 'accuracy'\n",
        "\n",
        "models = []\n",
        "models.append((\"CART\", DecisionTreeClassifier()))\n",
        "models.append((\"SVM\", SVC()))\n",
        "models.append((\"NB\", GaussianNB()))\n",
        "models.append((\"KNN\", KNeighborsClassifier()))\n",
        "\n",
        "#evaluate\n",
        "results = []\n",
        "names = []\n",
        "\n",
        "for name,model in models:\n",
        "  kfold = KFold(n_splits = 10)\n",
        "  cvresult = cross_val_score(model,X_train,y_train,cv=kfold,scoring = scoring)\n",
        "  results.append(cvresult)\n",
        "  names.append(name)\n",
        "  msg = \"For %s Model:Mean accuracy is %f(Std accuracy is %f)\" %(name,cvresult.mean(),cvresult.std())\n",
        "  print(msg)"
      ],
      "metadata": {
        "id": "DLTDUNavEPjj"
      },
      "execution_count": null,
      "outputs": []
    },
    {
      "cell_type": "markdown",
      "source": [
        "#Validation test"
      ],
      "metadata": {
        "id": "f04ePiZ8INUz"
      }
    },
    {
      "cell_type": "code",
      "source": [
        "for name,model in models:\n",
        "  model.fit(X_train, y_train)\n",
        "  predictions = model.predict(X_test)\n",
        "  print(\"Model name:\",name)\n",
        "  print(\"Accuracy Score:\", accuracy_score(y_test,predictions))\n",
        "  print(\"Classification Report\", classification_report(y_test, predictions))"
      ],
      "metadata": {
        "id": "bbzK049NIO2a"
      },
      "execution_count": null,
      "outputs": []
    },
    {
      "cell_type": "code",
      "source": [
        "fig = plt.figure(figsize=(10,10))\n",
        "fig.suptitle(\"Performance Comparison of the Models\")\n",
        "ax = fig.add_subplot(111)\n",
        "plt.boxplot(results)\n",
        "ax.set_xticklabels(names)\n",
        "plt.show()"
      ],
      "metadata": {
        "id": "HgZF7Z9uT23M"
      },
      "execution_count": null,
      "outputs": []
    },
    {
      "cell_type": "markdown",
      "source": [
        "#Support Vector Machines - Best performance\n"
      ],
      "metadata": {
        "id": "PiYGPDQ7G3bC"
      }
    },
    {
      "cell_type": "code",
      "source": [
        "clf = SVC()\n",
        "\n",
        "clf.fit(X_train, y_train)\n",
        "\n",
        "accuracy = clf.score(X_test, y_test)\n",
        "\n",
        "print(\"Accuracy of SVM is: \", accuracy)"
      ],
      "metadata": {
        "id": "h-gnsknYURGo"
      },
      "execution_count": null,
      "outputs": []
    },
    {
      "cell_type": "code",
      "source": [
        "predict = clf.predict(X_test)\n",
        "predict"
      ],
      "metadata": {
        "id": "yN2y3m2gHa6i"
      },
      "execution_count": null,
      "outputs": []
    },
    {
      "cell_type": "code",
      "source": [
        "df.info()"
      ],
      "metadata": {
        "id": "bsFgxjPyIO27"
      },
      "execution_count": null,
      "outputs": []
    },
    {
      "cell_type": "code",
      "source": [
        "df.tail()"
      ],
      "metadata": {
        "id": "pSlB4jAjJAbq"
      },
      "execution_count": null,
      "outputs": []
    },
    {
      "cell_type": "code",
      "source": [
        "example_measures = [[4,2,1,1,1,2,3,2,1]]\n",
        "\n",
        "prediction = clf.predict(example_measures)\n",
        "print(\"The Class is (2 for Benign and 4 for Malign): \", prediction)"
      ],
      "metadata": {
        "id": "_TjAYxYRHw9S"
      },
      "execution_count": null,
      "outputs": []
    },
    {
      "cell_type": "code",
      "source": [
        "example_m2 = [[5,10,10,3,7,3,8,10,2]]\n",
        "prediction = clf.predict(example_m2)\n",
        "print(\"The Class is: \", prediction)\t"
      ],
      "metadata": {
        "id": "owht0Eo2Izya"
      },
      "execution_count": null,
      "outputs": []
    },
    {
      "cell_type": "markdown",
      "source": [
        "#Pickle file getting downloaded"
      ],
      "metadata": {
        "id": "lZ15mlIgJmvC"
      }
    },
    {
      "cell_type": "code",
      "source": [
        "import pickle\n",
        "\n",
        "pickle.dump(clf,open('modelsvm.pkl','wb'))\n",
        "\n",
        "model = pickle.load(open('modelsvm.pkl','rb'))\n",
        "print(model.predict([[4,2,1,1,1,2,3,2,1]]))"
      ],
      "metadata": {
        "id": "FMVtTRgLJhbq"
      },
      "execution_count": null,
      "outputs": []
    }
  ]
}